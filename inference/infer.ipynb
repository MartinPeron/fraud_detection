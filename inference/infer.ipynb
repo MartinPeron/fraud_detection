{
 "cells": [
  {
   "cell_type": "code",
   "execution_count": 8,
   "id": "7235dddf",
   "metadata": {},
   "outputs": [
    {
     "name": "stdout",
     "output_type": "stream",
     "text": [
      "✅ Meilleur run trouvé : b47a90e6f4634e4ab1ec98017d6776b1\n",
      "   F1-score : 0.5714\n",
      "✅ Modèle chargé avec succès depuis MLflow.\n",
      "   Unnamed: 0.1  Unnamed: 0 trans_date_trans_time            cc_num  \\\n",
      "2             2           2   2020-06-21 12:14:53  3598215285024754   \n",
      "\n",
      "                               merchant        category    amt   first   last  \\\n",
      "2  fraud_Swaniawski, Nitzsche and Welch  health_fitness  41.28  Ashley  Lopez   \n",
      "\n",
      "  gender  ...      lat     long city_pop                job         dob  \\\n",
      "2      F  ...  40.6729 -73.5365    34496  Librarian, public  1970-10-21   \n",
      "\n",
      "                          trans_num   unix_time merch_lat merch_long is_fraud  \n",
      "2  c81755dbbbea9d5c77f094348a7579be  1371816893  40.49581 -74.196111        0  \n",
      "\n",
      "[1 rows x 24 columns]\n",
      "🧾 Prédiction : [0]\n"
     ]
    }
   ],
   "source": [
    "import mlflow\n",
    "from mlflow import MlflowClient\n",
    "import mlflow.sklearn\n",
    "import pandas as pd\n",
    "\n",
    "\n",
    "mlflow.set_tracking_uri(\"file:../mlruns\")\n",
    "EXPERIMENT_NAME = \"fraud_detection\"\n",
    "mlflow.set_experiment(EXPERIMENT_NAME)\n",
    "\n",
    "\n",
    "# --- 2. Récupération de l'expérience et de tous les runs\n",
    "client = MlflowClient()\n",
    "experiment = client.get_experiment_by_name(EXPERIMENT_NAME)\n",
    "\n",
    "runs = client.search_runs(\n",
    "    experiment_ids=[experiment.experiment_id],\n",
    "    order_by=[\"metrics.f1_score DESC\"],\n",
    "    max_results=1\n",
    ")\n",
    "\n",
    "\n",
    "# --- 3. Sélection du meilleur run\n",
    "best_run = runs[0]\n",
    "best_run_id = best_run.info.run_id\n",
    "best_f1 = best_run.data.metrics.get(\"f1_score\", None)\n",
    "\n",
    "print(f\"✅ Meilleur run trouvé : {best_run_id}\")\n",
    "print(f\"   F1-score : {best_f1:.4f}\")\n",
    "\n",
    "\n",
    "# --- 4. Chargement du modèle complet (pipeline)\n",
    "model_uri = f\"runs:/{best_run_id}/fraud_pipeline\"\n",
    "model = mlflow.sklearn.load_model(model_uri)\n",
    "print(\"✅ Modèle chargé avec succès depuis MLflow.\")\n",
    "\n",
    "df_raw = pd.read_csv(\"/Users/martinper/Downloads/fraudTest_head.csv\")\n",
    "\n",
    "# --- 5. Inférence sur une nouvelle donnée\n",
    "new_data = df_raw.sample(1)\n",
    "\n",
    "print(new_data)\n",
    "prediction = model.predict(new_data)\n",
    "print(\"🧾 Prédiction :\", prediction)"
   ]
  },
  {
   "cell_type": "code",
   "execution_count": null,
   "id": "7723c30a",
   "metadata": {},
   "outputs": [],
   "source": []
  }
 ],
 "metadata": {
  "language_info": {
   "name": "python"
  }
 },
 "nbformat": 4,
 "nbformat_minor": 5
}
