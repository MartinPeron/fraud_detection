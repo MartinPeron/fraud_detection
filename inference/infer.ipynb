{
 "cells": [
  {
   "cell_type": "code",
   "execution_count": 1,
   "id": "7235dddf",
   "metadata": {},
   "outputs": [
    {
     "data": {
      "text/plain": [
       "True"
      ]
     },
     "execution_count": 1,
     "metadata": {},
     "output_type": "execute_result"
    }
   ],
   "source": [
    "import mlflow\n",
    "from mlflow import MlflowClient\n",
    "import mlflow.sklearn\n",
    "import pandas as pd\n",
    "from dotenv import load_dotenv\n",
    "import os\n",
    "import boto3\n",
    "from io import StringIO\n",
    "from datetime import datetime\n",
    "\n",
    "load_dotenv()\n",
    "\n"
   ]
  },
  {
   "cell_type": "code",
   "execution_count": 2,
   "id": "d7d92e43",
   "metadata": {},
   "outputs": [
    {
     "name": "stdout",
     "output_type": "stream",
     "text": [
      "Best f1-score : 0.5714\n",
      "   index  Unnamed: 0 trans_date_trans_time           cc_num  \\\n",
      "0   1360      344381   2020-11-01 10:01:50  374497717543058   \n",
      "\n",
      "                            merchant  category    amt  first   last gender  \\\n",
      "0  fraud_Bernier, Volkman and Hoeger  misc_net  13.64  Linda  Hurst      F   \n",
      "\n",
      "   ...    zip      lat      long  city_pop                         job  \\\n",
      "0  ...  58579  47.1709 -100.7944      1190  Designer, ceramics/pottery   \n",
      "\n",
      "          dob                         trans_num   unix_time  merch_lat  \\\n",
      "0  1948-06-30  f224fa0a687b95832d8d351a0e1664bd  1383300110  46.753429   \n",
      "\n",
      "   merch_long  \n",
      "0 -101.267053  \n",
      "\n",
      "[1 rows x 23 columns]\n",
      "Prediction: [0]\n",
      "Expected: 0\n",
      "Saved on S3 : s3://jedhaparis/fraud_detection_artifacts/input_output/cda0b4fe334241d48228d2d59ae00af2_20251017_192516.csv\n"
     ]
    }
   ],
   "source": [
    "\n",
    "mlflow.set_tracking_uri(os.getenv(\"MLFLOW_TRACKING_URI\"))\n",
    "EXPERIMENT_NAME = os.getenv(\"MLFLOW_EXPERIMENT_NAME\")\n",
    "mlflow.set_experiment(EXPERIMENT_NAME)\n",
    "\n",
    "# get all runs\n",
    "client = MlflowClient()\n",
    "experiment = client.get_experiment_by_name(EXPERIMENT_NAME)\n",
    "\n",
    "runs = client.search_runs(\n",
    "    experiment_ids=[experiment.experiment_id],\n",
    "    order_by=[\"metrics.f1_score DESC\"],\n",
    "    max_results=1\n",
    ")\n",
    "\n",
    "# Find best run\n",
    "best_run = runs[0]\n",
    "best_run_id = best_run.info.run_id\n",
    "best_f1 = best_run.data.metrics.get(\"f1_score\", None)\n",
    "print(f\"Best f1-score : {best_f1:.4f}\")\n",
    "\n",
    "# load the model\n",
    "model_uri = f\"runs:/{best_run_id}/fraud_pipeline\"\n",
    "model = mlflow.sklearn.load_model(model_uri)\n",
    "\n",
    "\n",
    "# simulate real-time data by sampling from test file\n",
    "df_raw = pd.read_csv(\"/Users/martinper/Downloads/fraudTest_real_time.csv\")\n",
    "new_data = df_raw.sample(1).reset_index()\n",
    "expected_result = new_data.at[0, 'is_fraud']\n",
    "new_data = new_data.drop(columns=['is_fraud'])\n",
    "\n",
    "print(new_data)\n",
    "prediction = model.predict(new_data)\n",
    "print(\"Prediction:\", prediction)\n",
    "print(\"Expected:\", expected_result)\n",
    "\n",
    "\n",
    "AWS_BUCKET_NAME = os.getenv(\"AWS_BUCKET_NAME\")\n",
    "AWS_ARTIFACT_PATH = os.getenv(\"AWS_ARTIFACT_PATH\")\n",
    "AWS_DATA_SAVE_PATH = os.getenv(\"AWS_DATA_SAVE_PATH\")\n",
    "\n",
    "# save to s3\n",
    "s3 = boto3.client(\"s3\")\n",
    "timestamp = datetime.now().strftime(\"%Y%m%d_%H%M%S\")\n",
    "key = AWS_ARTIFACT_PATH + AWS_DATA_SAVE_PATH + f\"{best_run_id}_{timestamp}.csv\"\n",
    "\n",
    "output_df = new_data.copy()\n",
    "output_df[\"prediction\"] = prediction\n",
    "\n",
    "csv_buffer = StringIO()\n",
    "output_df.to_csv(csv_buffer, index=False)\n",
    "s3.put_object(Bucket=AWS_BUCKET_NAME, Key=key, Body=csv_buffer.getvalue())\n",
    "\n",
    "print(f\"Saved on S3 : s3://{AWS_BUCKET_NAME}/{key}\")"
   ]
  },
  {
   "cell_type": "code",
   "execution_count": null,
   "id": "7437a6d1",
   "metadata": {},
   "outputs": [],
   "source": []
  }
 ],
 "metadata": {
  "kernelspec": {
   "display_name": "Python (fraud_detection)",
   "language": "python",
   "name": "fraud_detection"
  },
  "language_info": {
   "codemirror_mode": {
    "name": "ipython",
    "version": 3
   },
   "file_extension": ".py",
   "mimetype": "text/x-python",
   "name": "python",
   "nbconvert_exporter": "python",
   "pygments_lexer": "ipython3",
   "version": "3.10.12"
  }
 },
 "nbformat": 4,
 "nbformat_minor": 5
}
