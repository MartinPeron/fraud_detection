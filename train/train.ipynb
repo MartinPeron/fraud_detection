{
 "cells": [
  {
   "cell_type": "code",
   "execution_count": 1,
   "id": "4e9052fc",
   "metadata": {},
   "outputs": [],
   "source": [
    "import pandas as pd\n",
    "from sklearn.model_selection import train_test_split\n",
    "from sklearn.preprocessing import OneHotEncoder\n",
    "from sklearn.compose import ColumnTransformer\n",
    "from sklearn.pipeline import Pipeline\n",
    "from sklearn.ensemble import RandomForestClassifier\n",
    "from sklearn.metrics import accuracy_score, precision_score, recall_score, f1_score\n",
    "import mlflow\n",
    "import mlflow.sklearn\n",
    "from mlflow.models.signature import infer_signature\n",
    "from sklearn.preprocessing import FunctionTransformer\n",
    "from dotenv import load_dotenv\n",
    "import os\n",
    "load_dotenv()\n",
    "\n",
    "df_raw = pd.read_csv(\"/Users/martinper/Downloads/fraud_train.csv\")"
   ]
  },
  {
   "cell_type": "code",
   "execution_count": 3,
   "id": "83e24556",
   "metadata": {},
   "outputs": [
    {
     "name": "stdout",
     "output_type": "stream",
     "text": [
      "pip 25.2 from /Users/martinper/CodeProjects/AIArchitect_Exam/Bloc 3 - Fraud detection/fraud_detection/lib/python3.10/site-packages/pip (python 3.10)\n"
     ]
    }
   ],
   "source": [
    "!pip --version\n"
   ]
  },
  {
   "cell_type": "code",
   "execution_count": 2,
   "id": "079ba2d1",
   "metadata": {},
   "outputs": [
    {
     "name": "stdout",
     "output_type": "stream",
     "text": [
      "/Users/martinper/CodeProjects/AIArchitect_Exam/Bloc 3 - Fraud detection/fraud_detection/bin/python\n"
     ]
    }
   ],
   "source": [
    "!which python"
   ]
  },
  {
   "cell_type": "code",
   "execution_count": 5,
   "id": "bb1f222b",
   "metadata": {},
   "outputs": [
    {
     "name": "stdout",
     "output_type": "stream",
     "text": [
      "ℹ️  Expérience existante : fraud_detection_exp\n",
      "   ➜ ID : 9\n",
      "   ➜ Artifact location : s3://jedhaparis/fraud_detection_artifacts/\n"
     ]
    }
   ],
   "source": [
    "mlflow.set_tracking_uri(os.getenv(\"MLFLOW_TRACKING_URI\"))  # ton serveur MLflow\n",
    "EXPERIMENT_NAME = os.getenv(\"MLFLOW_EXPERIMENT_NAME\")\n",
    "AWS_BUCKET_NAME = os.getenv(\"AWS_BUCKET_NAME\")\n",
    "AWS_ARTIFACT_PATH = os.getenv(\"AWS_ARTIFACT_PATH\")\n",
    "AWS_FULL_ARTIFACT_PATH = \"s3://\" + AWS_BUCKET_NAME + \"/\" + AWS_ARTIFACT_PATH\n",
    "\n",
    "# --- 3️⃣ Création ou récupération de l'expérience\n",
    "experiment = mlflow.get_experiment_by_name(EXPERIMENT_NAME)\n",
    "\n",
    "if experiment is None:\n",
    "    exp_id = mlflow.create_experiment(\n",
    "        name=EXPERIMENT_NAME,\n",
    "        artifact_location=AWS_FULL_ARTIFACT_PATH\n",
    "    )\n",
    "    print(f\"✅ Nouvelle expérience créée : {EXPERIMENT_NAME}\")\n",
    "    print(f\"   ➜ ID : {exp_id}\")\n",
    "    print(f\"   ➜ Artifact location : {AWS_FULL_ARTIFACT_PATH}\")\n",
    "else:\n",
    "    exp_id = experiment.experiment_id\n",
    "    print(f\"ℹ️  Expérience existante : {EXPERIMENT_NAME}\")\n",
    "    print(f\"   ➜ ID : {exp_id}\")\n",
    "    print(f\"   ➜ Artifact location : {experiment.artifact_location}\")"
   ]
  },
  {
   "cell_type": "code",
   "execution_count": 6,
   "id": "540bcf66",
   "metadata": {},
   "outputs": [
    {
     "name": "stderr",
     "output_type": "stream",
     "text": [
      "/Users/martinper/CodeProjects/AIArchitect_Exam/Bloc 3 - Fraud detection/fraud_detection/lib/python3.10/site-packages/mlflow/types/utils.py:452: UserWarning: Hint: Inferred schema contains integer column(s). Integer columns in Python cannot represent missing values. If your input data contains missing values at inference time, it will be encoded as floats and will cause a schema enforcement error. The best way to avoid this problem is to infer the model schema based on a realistic data sample (training dataset) that includes missing values. Alternatively, you can declare integer columns as doubles (float64) whenever these columns may have missing values. See `Handling Integers With Missing Values <https://www.mlflow.org/docs/latest/models.html#handling-integers-with-missing-values>`_ for more details.\n",
      "  warnings.warn(\n",
      "2025/10/17 15:07:35 WARNING mlflow.models.model: `artifact_path` is deprecated. Please use `name` instead.\n"
     ]
    },
    {
     "name": "stdout",
     "output_type": "stream",
     "text": [
      "✅ Run logged — acc=0.9985, prec=1.0000, recall=0.4000, f1=0.5714\n",
      "🏃 View run glamorous-foal-251 at: http://127.0.0.1:5000/#/experiments/9/runs/3fc54da545e341e5bdf989bb94c7dc20\n",
      "🧪 View experiment at: http://127.0.0.1:5000/#/experiments/9\n"
     ]
    }
   ],
   "source": [
    "df = df_raw.head(10000)\n",
    "\n",
    "# Séparation X / y\n",
    "X = df.drop(columns=['is_fraud'])\n",
    "y = df['is_fraud']\n",
    "\n",
    "def feature_engineering(df):\n",
    "    df = df.drop(columns=['Unnamed: 0', 'cc_num', 'first', 'last', 'street', 'trans_num'])\n",
    "    df = df.drop(columns=['job', 'city', 'merchant'])  # todo try target encode\n",
    "\n",
    "    df['trans_date_trans_time'] = pd.to_datetime(df['trans_date_trans_time'], errors='coerce')\n",
    "    df['dob'] = pd.to_datetime(df['dob'], errors='coerce')\n",
    "    df['age'] = (df['trans_date_trans_time'] - df['dob']).dt.days // 365\n",
    "\n",
    "    df['hour'] = df['trans_date_trans_time'].dt.hour\n",
    "    df['day'] = df['trans_date_trans_time'].dt.day\n",
    "    df['month'] = df['trans_date_trans_time'].dt.month\n",
    "    df['weekday'] = df['trans_date_trans_time'].dt.weekday\n",
    "    df = df.drop(columns=['dob', 'trans_date_trans_time'])\n",
    "    return df\n",
    "\n",
    "feature_transformer = FunctionTransformer(feature_engineering)\n",
    "\n",
    "\n",
    "# Séparation train / test\n",
    "X_train, X_test, y_train, y_test = train_test_split(\n",
    "    X, y, test_size=0.2, random_state=42, stratify=y\n",
    ")\n",
    "\n",
    "# Étape 2 — Appliquer une fois sur X_train pour connaître les colonnes finales\n",
    "X_train_transformed = feature_transformer.fit_transform(X_train)\n",
    "cat_cols = X_train_transformed.select_dtypes(include=['object']).columns\n",
    "\n",
    "preprocessor = ColumnTransformer(\n",
    "    transformers=[\n",
    "        ('cat', OneHotEncoder(handle_unknown='ignore', sparse_output=False), cat_cols)\n",
    "    ],\n",
    "    remainder='passthrough'\n",
    ")\n",
    "\n",
    "\n",
    "# Pipeline complet\n",
    "pipeline = Pipeline(steps=[\n",
    "    ('feature_engineering', feature_transformer),\n",
    "    ('preprocessor', preprocessor),\n",
    "    ('model', RandomForestClassifier(n_estimators=100, random_state=42, n_jobs=-1))\n",
    "])\n",
    "\n",
    "\n",
    "# --- 3. Entraînement et log avec MLflow\n",
    "with mlflow.start_run():\n",
    "    pipeline.fit(X_train, y_train)\n",
    "    y_pred = pipeline.predict(X_test)\n",
    "\n",
    "    acc = accuracy_score(y_test, y_pred)\n",
    "    prec = precision_score(y_test, y_pred)\n",
    "    rec = recall_score(y_test, y_pred)\n",
    "    f1 = f1_score(y_test, y_pred)\n",
    "\n",
    "    mlflow.log_param(\"model\", \"RandomForest\")\n",
    "    mlflow.log_param(\"n_estimators\", 100)\n",
    "\n",
    "    mlflow.log_metric(\"accuracy\", acc)\n",
    "    mlflow.log_metric(\"precision\", prec)\n",
    "    mlflow.log_metric(\"recall\", rec)\n",
    "    mlflow.log_metric(\"f1_score\", f1)\n",
    "\n",
    "    mlflow.sklearn.log_model(pipeline, \"fraud_pipeline\", signature=infer_signature(X_test, pipeline.predict(X_test)))\n",
    "\n",
    "    print(f\"✅ Run logged — acc={acc:.4f}, prec={prec:.4f}, recall={rec:.4f}, f1={f1:.4f}\")"
   ]
  }
 ],
 "metadata": {
  "kernelspec": {
   "display_name": "Python (fraud_detection)",
   "language": "python",
   "name": "fraud_detection"
  },
  "language_info": {
   "codemirror_mode": {
    "name": "ipython",
    "version": 3
   },
   "file_extension": ".py",
   "mimetype": "text/x-python",
   "name": "python",
   "nbconvert_exporter": "python",
   "pygments_lexer": "ipython3",
   "version": "3.10.12"
  }
 },
 "nbformat": 4,
 "nbformat_minor": 5
}
